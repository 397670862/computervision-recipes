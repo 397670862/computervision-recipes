{
 "cells": [
  {
   "cell_type": "markdown",
   "metadata": {},
   "source": [
    "<i>Copyright (c) Microsoft Corporation. All rights reserved.</i>\n",
    "\n",
    "<i>Licensed under the MIT License.</i>"
   ]
  },
  {
   "cell_type": "markdown",
   "metadata": {},
   "source": [
    "# Testing different Hyperparameters and Benchmarking"
   ]
  },
  {
   "cell_type": "markdown",
   "metadata": {},
   "source": [
    "In this notebook, we'll cover how to test different hyperparameters for a particular dataset and how to benchmark different parameters across a group of datasets. Note that this re-uses functionality which was already introduced and described in the [classification/notebooks/11_exploring_hyperparameters.ipynb](../../classification/notebooks/11_exploring_hyperparameters.ipynb) notebook. **Please refer to that notebook for all explanations, which this notebook will not repeat.**\n",
    "\n",
    "For an example of how to scale up with remote GPU clusters on Azure Machine Learning, please view [24_exploring_hyperparameters_on_azureml.ipynb](../../classification/notebooks/24_exploring_hyperparameters_on_azureml.ipynb)."
   ]
  },
  {
   "cell_type": "markdown",
   "metadata": {},
   "source": [
    "## Testing hyperparameters"
   ]
  },
  {
   "cell_type": "markdown",
   "metadata": {},
   "source": [
    "Ensure edits to libraries are loaded and plotting is shown in the notebook."
   ]
  },
  {
   "cell_type": "code",
   "execution_count": 1,
   "metadata": {},
   "outputs": [],
   "source": [
    "%reload_ext autoreload\n",
    "%autoreload 2\n",
    "%matplotlib inline"
   ]
  },
  {
   "cell_type": "markdown",
   "metadata": {},
   "source": [
    "We start by importing the utilities we need."
   ]
  },
  {
   "cell_type": "code",
   "execution_count": 2,
   "metadata": {},
   "outputs": [
    {
     "data": {
      "text/plain": [
       "'1.0.57'"
      ]
     },
     "execution_count": 2,
     "metadata": {},
     "output_type": "execute_result"
    }
   ],
   "source": [
    "import sys\n",
    "import numpy as np\n",
    "import scrapbook as sb\n",
    "import torch\n",
    "import fastai\n",
    "from fastai.vision import *\n",
    "\n",
    "sys.path.append(\"../../\")\n",
    "from utils_cv.common.data import unzip_url\n",
    "from utils_cv.classification.parameter_sweeper import ParameterSweeper, clean_sweeper_df, plot_sweeper_df\n",
    "from utils_cv.segmentation.data import Urls\n",
    "\n",
    "fastai.__version__"
   ]
  },
  {
   "cell_type": "markdown",
   "metadata": {},
   "source": [
    "Define the datasets and parameters we will use in this notebook. To run this notebook quickly, we are setting the image resolution and the number of epochs to be low. "
   ]
  },
  {
   "cell_type": "code",
   "execution_count": 3,
   "metadata": {
    "tags": [
     "parameters"
    ]
   },
   "outputs": [],
   "source": [
    "DATA_PATHS = [unzip_url(Urls.fridge_objects_path, exist_ok=True)]\n",
    "REPS = 3\n",
    "LEARNING_RATES = [1e-3, 1e-4, 1e-5]\n",
    "IM_SIZES = [50, 100]   #recommended to try: [300, 500]\n",
    "EPOCHS = [2,5]         #recommended to try: [10, 20]\n",
    "DROPOUTS = [0]"
   ]
  },
  {
   "cell_type": "markdown",
   "metadata": {},
   "source": [
    "### Model training and evaluation"
   ]
  },
  {
   "cell_type": "markdown",
   "metadata": {},
   "source": [
    "We start by creating the Parameter Sweeper object. Before we start testing, it's a good idea to see what the default parameters are. We can use a the property `parameters` to easily see those default values."
   ]
  },
  {
   "cell_type": "code",
   "execution_count": 4,
   "metadata": {},
   "outputs": [
    {
     "data": {
      "text/plain": [
       "OrderedDict([('learning_rate', [0.0001]),\n",
       "             ('epochs', [15]),\n",
       "             ('batch_size', [16]),\n",
       "             ('im_size', [299]),\n",
       "             ('architecture',\n",
       "              [<Architecture.resnet18: functools.partial(<function resnet18 at 0x0000015CAF75E558>)>]),\n",
       "             ('transform', [True]),\n",
       "             ('dropout', [0.5]),\n",
       "             ('weight_decay', [0.01]),\n",
       "             ('training_schedule',\n",
       "              [<TrainingSchedule.head_first_then_body: 'head_first_then_body'>]),\n",
       "             ('discriminative_lr', [False]),\n",
       "             ('one_cycle_policy', [True])])"
      ]
     },
     "execution_count": 4,
     "metadata": {},
     "output_type": "execute_result"
    }
   ],
   "source": [
    "sweeper = ParameterSweeper(metric_name=\"ratio_correct\")\n",
    "sweeper.parameters"
   ]
  },
  {
   "cell_type": "markdown",
   "metadata": {},
   "source": [
    "Now that we know the defaults, we can pass it the parameters we want to test, and run the parameter sweep."
   ]
  },
  {
   "cell_type": "code",
   "execution_count": null,
   "metadata": {},
   "outputs": [],
   "source": [
    "sweeper.update_parameters(learning_rate=LEARNING_RATES, im_size=IM_SIZES, epochs=EPOCHS, dropout=DROPOUTS)\n",
    "df = sweeper.run(datasets=DATA_PATHS, reps=REPS)\n",
    "df"
   ]
  },
  {
   "cell_type": "markdown",
   "metadata": {},
   "source": [
    "### Visualize Results <a name=\"visualize\"></a>"
   ]
  },
  {
   "cell_type": "markdown",
   "metadata": {},
   "source": [
    "When we read in multi-index dataframe, index 0 represents the run number, index 1 represents a single permutation of parameters, and index 2 represents the dataset. To see the results, show the df using the `clean_sweeper_df` helper function. This will display all the hyperparameters in a nice, readable way."
   ]
  },
  {
   "cell_type": "code",
   "execution_count": 6,
   "metadata": {},
   "outputs": [],
   "source": [
    "df = clean_sweeper_df(df)"
   ]
  },
  {
   "cell_type": "markdown",
   "metadata": {},
   "source": [
    "Since we've run our benchmarking over 3 repetitions, we may want to just look at the averages across the different __run numbers__."
   ]
  },
  {
   "cell_type": "code",
   "execution_count": 7,
   "metadata": {},
   "outputs": [
    {
     "data": {
      "text/html": [
       "<div>\n",
       "<style scoped>\n",
       "    .dataframe tbody tr th:only-of-type {\n",
       "        vertical-align: middle;\n",
       "    }\n",
       "\n",
       "    .dataframe tbody tr th {\n",
       "        vertical-align: top;\n",
       "    }\n",
       "\n",
       "    .dataframe thead tr th {\n",
       "        text-align: left;\n",
       "    }\n",
       "</style>\n",
       "<table border=\"1\" class=\"dataframe\">\n",
       "  <thead>\n",
       "    <tr>\n",
       "      <th></th>\n",
       "      <th>P: [learning_rate: 0.001] [epochs: 2] [im_size: 50]</th>\n",
       "      <th>P: [learning_rate: 0.001] [epochs: 2] [im_size: 100]</th>\n",
       "      <th>P: [learning_rate: 0.001] [epochs: 5] [im_size: 50]</th>\n",
       "      <th>P: [learning_rate: 0.001] [epochs: 5] [im_size: 100]</th>\n",
       "      <th>P: [learning_rate: 0.0001] [epochs: 2] [im_size: 50]</th>\n",
       "      <th>P: [learning_rate: 0.0001] [epochs: 2] [im_size: 100]</th>\n",
       "      <th>P: [learning_rate: 0.0001] [epochs: 5] [im_size: 50]</th>\n",
       "      <th>P: [learning_rate: 0.0001] [epochs: 5] [im_size: 100]</th>\n",
       "      <th>P: [learning_rate: 1e-05] [epochs: 2] [im_size: 50]</th>\n",
       "      <th>P: [learning_rate: 1e-05] [epochs: 2] [im_size: 100]</th>\n",
       "      <th>P: [learning_rate: 1e-05] [epochs: 5] [im_size: 50]</th>\n",
       "      <th>P: [learning_rate: 1e-05] [epochs: 5] [im_size: 100]</th>\n",
       "    </tr>\n",
       "    <tr>\n",
       "      <th></th>\n",
       "      <th>segFridgeObjects</th>\n",
       "      <th>segFridgeObjects</th>\n",
       "      <th>segFridgeObjects</th>\n",
       "      <th>segFridgeObjects</th>\n",
       "      <th>segFridgeObjects</th>\n",
       "      <th>segFridgeObjects</th>\n",
       "      <th>segFridgeObjects</th>\n",
       "      <th>segFridgeObjects</th>\n",
       "      <th>segFridgeObjects</th>\n",
       "      <th>segFridgeObjects</th>\n",
       "      <th>segFridgeObjects</th>\n",
       "      <th>segFridgeObjects</th>\n",
       "    </tr>\n",
       "  </thead>\n",
       "  <tbody>\n",
       "    <tr>\n",
       "      <th>duration</th>\n",
       "      <td>8.547139</td>\n",
       "      <td>9.013214</td>\n",
       "      <td>16.63577</td>\n",
       "      <td>20.546062</td>\n",
       "      <td>7.172654</td>\n",
       "      <td>8.761727</td>\n",
       "      <td>16.897888</td>\n",
       "      <td>20.728977</td>\n",
       "      <td>7.189551</td>\n",
       "      <td>8.739836</td>\n",
       "      <td>16.870451</td>\n",
       "      <td>20.614386</td>\n",
       "    </tr>\n",
       "    <tr>\n",
       "      <th>ratio_correct</th>\n",
       "      <td>0.944444</td>\n",
       "      <td>1.000000</td>\n",
       "      <td>1.00000</td>\n",
       "      <td>1.000000</td>\n",
       "      <td>1.000000</td>\n",
       "      <td>1.000000</td>\n",
       "      <td>0.992063</td>\n",
       "      <td>1.000000</td>\n",
       "      <td>0.837302</td>\n",
       "      <td>0.869048</td>\n",
       "      <td>0.896825</td>\n",
       "      <td>0.968254</td>\n",
       "    </tr>\n",
       "  </tbody>\n",
       "</table>\n",
       "</div>"
      ],
      "text/plain": [
       "              P: [learning_rate: 0.001] [epochs: 2] [im_size: 50]  \\\n",
       "                                                 segFridgeObjects   \n",
       "duration                                                8.547139    \n",
       "ratio_correct                                           0.944444    \n",
       "\n",
       "              P: [learning_rate: 0.001] [epochs: 2] [im_size: 100]  \\\n",
       "                                                  segFridgeObjects   \n",
       "duration                                                9.013214     \n",
       "ratio_correct                                           1.000000     \n",
       "\n",
       "              P: [learning_rate: 0.001] [epochs: 5] [im_size: 50]  \\\n",
       "                                                 segFridgeObjects   \n",
       "duration                                                16.63577    \n",
       "ratio_correct                                            1.00000    \n",
       "\n",
       "              P: [learning_rate: 0.001] [epochs: 5] [im_size: 100]  \\\n",
       "                                                  segFridgeObjects   \n",
       "duration                                               20.546062     \n",
       "ratio_correct                                           1.000000     \n",
       "\n",
       "              P: [learning_rate: 0.0001] [epochs: 2] [im_size: 50]  \\\n",
       "                                                  segFridgeObjects   \n",
       "duration                                                7.172654     \n",
       "ratio_correct                                           1.000000     \n",
       "\n",
       "              P: [learning_rate: 0.0001] [epochs: 2] [im_size: 100]  \\\n",
       "                                                   segFridgeObjects   \n",
       "duration                                                8.761727      \n",
       "ratio_correct                                           1.000000      \n",
       "\n",
       "              P: [learning_rate: 0.0001] [epochs: 5] [im_size: 50]  \\\n",
       "                                                  segFridgeObjects   \n",
       "duration                                               16.897888     \n",
       "ratio_correct                                           0.992063     \n",
       "\n",
       "              P: [learning_rate: 0.0001] [epochs: 5] [im_size: 100]  \\\n",
       "                                                   segFridgeObjects   \n",
       "duration                                               20.728977      \n",
       "ratio_correct                                           1.000000      \n",
       "\n",
       "              P: [learning_rate: 1e-05] [epochs: 2] [im_size: 50]  \\\n",
       "                                                 segFridgeObjects   \n",
       "duration                                                7.189551    \n",
       "ratio_correct                                           0.837302    \n",
       "\n",
       "              P: [learning_rate: 1e-05] [epochs: 2] [im_size: 100]  \\\n",
       "                                                  segFridgeObjects   \n",
       "duration                                                8.739836     \n",
       "ratio_correct                                           0.869048     \n",
       "\n",
       "              P: [learning_rate: 1e-05] [epochs: 5] [im_size: 50]  \\\n",
       "                                                 segFridgeObjects   \n",
       "duration                                               16.870451    \n",
       "ratio_correct                                           0.896825    \n",
       "\n",
       "              P: [learning_rate: 1e-05] [epochs: 5] [im_size: 100]  \n",
       "                                                  segFridgeObjects  \n",
       "duration                                               20.614386    \n",
       "ratio_correct                                           0.968254    "
      ]
     },
     "execution_count": 7,
     "metadata": {},
     "output_type": "execute_result"
    }
   ],
   "source": [
    "df.mean(level=(1,2)).T"
   ]
  },
  {
   "cell_type": "markdown",
   "metadata": {},
   "source": [
    "Print the average accuracy over the different runs for each dataset independently."
   ]
  },
  {
   "cell_type": "code",
   "execution_count": 8,
   "metadata": {},
   "outputs": [
    {
     "data": {
      "image/png": "[encoded data removed]",
      "text/plain": [
       "<Figure size 864x432 with 1 Axes>"
      ]
     },
     "metadata": {
      "needs_background": "light"
     },
     "output_type": "display_data"
    }
   ],
   "source": [
    "ax = df.mean(level=(1,2))[\"ratio_correct\"].unstack().plot(kind='bar', figsize=(12, 6))"
   ]
  },
  {
   "cell_type": "markdown",
   "metadata": {},
   "source": [
    "Additionally, we may want simply to see which set of hyperparameters perform the best across the different __datasets__. We can do that by averaging the results of the different datasets."
   ]
  },
  {
   "cell_type": "code",
   "execution_count": 9,
   "metadata": {
    "scrolled": true
   },
   "outputs": [
    {
     "data": {
      "text/html": [
       "<div>\n",
       "<style scoped>\n",
       "    .dataframe tbody tr th:only-of-type {\n",
       "        vertical-align: middle;\n",
       "    }\n",
       "\n",
       "    .dataframe tbody tr th {\n",
       "        vertical-align: top;\n",
       "    }\n",
       "\n",
       "    .dataframe thead th {\n",
       "        text-align: right;\n",
       "    }\n",
       "</style>\n",
       "<table border=\"1\" class=\"dataframe\">\n",
       "  <thead>\n",
       "    <tr style=\"text-align: right;\">\n",
       "      <th></th>\n",
       "      <th>P: [learning_rate: 0.001] [epochs: 2] [im_size: 50]</th>\n",
       "      <th>P: [learning_rate: 0.001] [epochs: 2] [im_size: 100]</th>\n",
       "      <th>P: [learning_rate: 0.001] [epochs: 5] [im_size: 50]</th>\n",
       "      <th>P: [learning_rate: 0.001] [epochs: 5] [im_size: 100]</th>\n",
       "      <th>P: [learning_rate: 0.0001] [epochs: 2] [im_size: 50]</th>\n",
       "      <th>P: [learning_rate: 0.0001] [epochs: 2] [im_size: 100]</th>\n",
       "      <th>P: [learning_rate: 0.0001] [epochs: 5] [im_size: 50]</th>\n",
       "      <th>P: [learning_rate: 0.0001] [epochs: 5] [im_size: 100]</th>\n",
       "      <th>P: [learning_rate: 1e-05] [epochs: 2] [im_size: 50]</th>\n",
       "      <th>P: [learning_rate: 1e-05] [epochs: 2] [im_size: 100]</th>\n",
       "      <th>P: [learning_rate: 1e-05] [epochs: 5] [im_size: 50]</th>\n",
       "      <th>P: [learning_rate: 1e-05] [epochs: 5] [im_size: 100]</th>\n",
       "    </tr>\n",
       "  </thead>\n",
       "  <tbody>\n",
       "    <tr>\n",
       "      <th>duration</th>\n",
       "      <td>8.547139</td>\n",
       "      <td>9.013214</td>\n",
       "      <td>16.63577</td>\n",
       "      <td>20.546062</td>\n",
       "      <td>7.172654</td>\n",
       "      <td>8.761727</td>\n",
       "      <td>16.897888</td>\n",
       "      <td>20.728977</td>\n",
       "      <td>7.189551</td>\n",
       "      <td>8.739836</td>\n",
       "      <td>16.870451</td>\n",
       "      <td>20.614386</td>\n",
       "    </tr>\n",
       "    <tr>\n",
       "      <th>ratio_correct</th>\n",
       "      <td>0.944444</td>\n",
       "      <td>1.000000</td>\n",
       "      <td>1.00000</td>\n",
       "      <td>1.000000</td>\n",
       "      <td>1.000000</td>\n",
       "      <td>1.000000</td>\n",
       "      <td>0.992063</td>\n",
       "      <td>1.000000</td>\n",
       "      <td>0.837302</td>\n",
       "      <td>0.869048</td>\n",
       "      <td>0.896825</td>\n",
       "      <td>0.968254</td>\n",
       "    </tr>\n",
       "  </tbody>\n",
       "</table>\n",
       "</div>"
      ],
      "text/plain": [
       "               P: [learning_rate: 0.001] [epochs: 2] [im_size: 50]  \\\n",
       "duration                                                8.547139     \n",
       "ratio_correct                                           0.944444     \n",
       "\n",
       "               P: [learning_rate: 0.001] [epochs: 2] [im_size: 100]  \\\n",
       "duration                                                9.013214      \n",
       "ratio_correct                                           1.000000      \n",
       "\n",
       "               P: [learning_rate: 0.001] [epochs: 5] [im_size: 50]  \\\n",
       "duration                                                16.63577     \n",
       "ratio_correct                                            1.00000     \n",
       "\n",
       "               P: [learning_rate: 0.001] [epochs: 5] [im_size: 100]  \\\n",
       "duration                                               20.546062      \n",
       "ratio_correct                                           1.000000      \n",
       "\n",
       "               P: [learning_rate: 0.0001] [epochs: 2] [im_size: 50]  \\\n",
       "duration                                                7.172654      \n",
       "ratio_correct                                           1.000000      \n",
       "\n",
       "               P: [learning_rate: 0.0001] [epochs: 2] [im_size: 100]  \\\n",
       "duration                                                8.761727       \n",
       "ratio_correct                                           1.000000       \n",
       "\n",
       "               P: [learning_rate: 0.0001] [epochs: 5] [im_size: 50]  \\\n",
       "duration                                               16.897888      \n",
       "ratio_correct                                           0.992063      \n",
       "\n",
       "               P: [learning_rate: 0.0001] [epochs: 5] [im_size: 100]  \\\n",
       "duration                                               20.728977       \n",
       "ratio_correct                                           1.000000       \n",
       "\n",
       "               P: [learning_rate: 1e-05] [epochs: 2] [im_size: 50]  \\\n",
       "duration                                                7.189551     \n",
       "ratio_correct                                           0.837302     \n",
       "\n",
       "               P: [learning_rate: 1e-05] [epochs: 2] [im_size: 100]  \\\n",
       "duration                                                8.739836      \n",
       "ratio_correct                                           0.869048      \n",
       "\n",
       "               P: [learning_rate: 1e-05] [epochs: 5] [im_size: 50]  \\\n",
       "duration                                               16.870451     \n",
       "ratio_correct                                           0.896825     \n",
       "\n",
       "               P: [learning_rate: 1e-05] [epochs: 5] [im_size: 100]  \n",
       "duration                                               20.614386     \n",
       "ratio_correct                                           0.968254     "
      ]
     },
     "execution_count": 9,
     "metadata": {},
     "output_type": "execute_result"
    }
   ],
   "source": [
    "df.mean(level=(1)).T"
   ]
  },
  {
   "cell_type": "markdown",
   "metadata": {},
   "source": [
    "To make it easier to see which permutation did the best, we can plot the results using the `plot_sweeper_df` helper function. This plot will help us easily see which parameters offer the highest accuracies."
   ]
  },
  {
   "cell_type": "code",
   "execution_count": 10,
   "metadata": {},
   "outputs": [
    {
     "data": {
      "image/png": "[encoded data removed]",
      "text/plain": [
       "<Figure size 864x576 with 2 Axes>"
      ]
     },
     "metadata": {
      "needs_background": "light"
     },
     "output_type": "display_data"
    }
   ],
   "source": [
    "plot_sweeper_df(df.mean(level=(1)), sort_by=\"ratio_correct\")"
   ]
  },
  {
   "cell_type": "code",
   "execution_count": 11,
   "metadata": {},
   "outputs": [
    {
     "data": {
      "application/scrapbook.scrap.json+json": {
       "data": 36,
       "encoder": "json",
       "name": "nr_elements",
       "version": 1
      }
     },
     "metadata": {
      "scrapbook": {
       "data": true,
       "display": false,
       "name": "nr_elements"
      }
     },
     "output_type": "display_data"
    },
    {
     "data": {
      "application/scrapbook.scrap.json+json": {
       "data": [
        0.9444443333333333,
        1,
        1,
        1,
        1,
        1,
        0.9920633333333333,
        1,
        0.8373016666666667,
        0.8690476666666666,
        0.8968253333333333,
        0.9682536666666666
       ],
       "encoder": "json",
       "name": "ranks",
       "version": 1
      }
     },
     "metadata": {
      "scrapbook": {
       "data": true,
       "display": false,
       "name": "ranks"
      }
     },
     "output_type": "display_data"
    },
    {
     "data": {
      "application/scrapbook.scrap.json+json": {
       "data": 20.853889000000002,
       "encoder": "json",
       "name": "max_duration",
       "version": 1
      }
     },
     "metadata": {
      "scrapbook": {
       "data": true,
       "display": false,
       "name": "max_duration"
      }
     },
     "output_type": "display_data"
    },
    {
     "data": {
      "application/scrapbook.scrap.json+json": {
       "data": 7.148772999999999,
       "encoder": "json",
       "name": "min_duration",
       "version": 1
      }
     },
     "metadata": {
      "scrapbook": {
       "data": true,
       "display": false,
       "name": "min_duration"
      }
     },
     "output_type": "display_data"
    }
   ],
   "source": [
    "# Preserve some of the notebook outputs\n",
    "sb.glue(\"nr_elements\", len(df))\n",
    "sb.glue(\"ranks\", list(df.mean(level=(1))[\"ratio_correct\"]))\n",
    "sb.glue(\"max_duration\", df.max().duration)\n",
    "sb.glue(\"min_duration\", df.min().duration)"
   ]
  }
 ],
 "metadata": {
  "kernelspec": {
   "display_name": "Python (cv)",
   "language": "python",
   "name": "cv"
  },
  "language_info": {
   "codemirror_mode": {
    "name": "ipython",
    "version": 3
   },
   "file_extension": ".py",
   "mimetype": "text/x-python",
   "name": "python",
   "nbconvert_exporter": "python",
   "pygments_lexer": "ipython3",
   "version": "3.7.6"
  }
 },
 "nbformat": 4,
 "nbformat_minor": 2
}
