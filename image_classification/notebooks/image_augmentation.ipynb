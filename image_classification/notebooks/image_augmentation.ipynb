{
 "cells": [
  {
   "cell_type": "markdown",
   "metadata": {},
   "source": [
    "<i>Copyright (c) Microsoft Corporation. All rights reserved.</i>\n",
    "\n",
    "<i>Licensed under the MIT License.</i>"
   ]
  },
  {
   "cell_type": "markdown",
   "metadata": {},
   "source": [
    "# Image Augmentation"
   ]
  },
  {
   "cell_type": "markdown",
   "metadata": {},
   "source": [
    "Deep dive into image-augmentation:\n",
    "* what is image-augmentation and why it works\n",
    "* how it affects on different image classification tasks (when to use / not to use which)\n",
    "\n",
    "\n",
    "1. what image-augmentation is and why it works\n",
    "\n",
    "    a. FastAI's image augmentation transformations\n",
    "    \n",
    "    b. Examples ('not-very-useful or even bad' vs. 'good')\n",
    "    \n",
    "2. how it affects on different image classification tasks: examples\n",
    "\n",
    "    a. Hand-written number classification (MNIST)\n",
    "\n",
    "    b. Object classification (Fridge-object)\n",
    "    \n",
    "\n",
    "Further readings:\n",
    "* https://towardsdatascience.com/data-augmentation-experimentation-3e274504f04b\n"
   ]
  },
  {
   "cell_type": "code",
   "execution_count": 1,
   "metadata": {},
   "outputs": [],
   "source": [
    "# Ensure edits to libraries are loaded and plotting is shown in the notebook.\n",
    "%reload_ext autoreload\n",
    "%autoreload 2\n",
    "%matplotlib inline"
   ]
  },
  {
   "cell_type": "code",
   "execution_count": 4,
   "metadata": {},
   "outputs": [
    {
     "name": "stdout",
     "output_type": "stream",
     "text": [
      "Fast.ai version = 1.0.48\n",
      "Fast.ai (Torch) is using GPU: GeForce GTX 1050\n",
      "Available / Total memory = 1980 / 2048 (MiB)\n"
     ]
    }
   ],
   "source": [
    "import sys\n",
    "sys.path.append(\"../\")\n",
    "import numpy as np\n",
    "from pathlib import Path\n",
    "\n",
    "import fastai\n",
    "from fastai.vision import *\n",
    "from fastai.metrics import accuracy\n",
    "import torch.cuda as cuda\n",
    "\n",
    "from utils_ic.datasets import unzip_url, Urls\n",
    "from utils_ic.fastai_utils import TrainMetricsRecorder\n",
    "from utils_ic.gpu_utils import which_processor\n",
    "from utils_ic.plot_utils import plot_pr_roc_curves, ResultsWidget\n",
    "\n",
    "\n",
    "print(f\"Fast.ai version = {fastai.__version__}\")\n",
    "which_processor()"
   ]
  },
  {
   "cell_type": "markdown",
   "metadata": {},
   "source": [
    "This shows your machine's GPUs (if has any) and which computing device fastai/torch is using. The output cells here show the run results on [Azure DSVM](https://azure.microsoft.com/en-us/services/virtual-machines/data-science-virtual-machines/) Standard NC6."
   ]
  },
  {
   "cell_type": "code",
   "execution_count": null,
   "metadata": {},
   "outputs": [],
   "source": [
    "# Parameters\n",
    "LEARNING_RATE = 1e-4\n",
    "IMAGE_SIZE    = 299\n",
    "BATCH_SIZE    = 16\n",
    "ARCHITECTURE  = models.resnet50"
   ]
  },
  {
   "cell_type": "code",
   "execution_count": 5,
   "metadata": {},
   "outputs": [],
   "source": [
    "from tempfile import TemporaryDirectory\n",
    "\n",
    "tmpdir = TemporaryDirectory()"
   ]
  },
  {
   "cell_type": "markdown",
   "metadata": {},
   "source": [
    "## 1. What image-augmentation is and why it works\n",
    "\n",
    "Some texts here\n"
   ]
  },
  {
   "cell_type": "markdown",
   "metadata": {},
   "source": [
    "#### FastAI image augmentation transformations\n",
    "\n",
    "What we want to test from this notebook:\n",
    "* `get_transforms` (`do_flip` / `flip_vert`): True / True, True / False, False\n",
    "* `zoom_crop`\n",
    "* `rand_resize_crop`\n",
    "\n",
    "Note, each transform functions returns a tuple of two list of transforms: one for the training set and one for the validation set (the second list of transforms is limited to resizing the pictures). \n",
    "\n",
    "For the full list of transformation `fastai` supports, see [its API documents](https://docs.fast.ai/vision.transform.html)."
   ]
  },
  {
   "cell_type": "code",
   "execution_count": 6,
   "metadata": {},
   "outputs": [],
   "source": [
    "# We keep all the other parameters as defaults.\n",
    "tfms_options = {}\n",
    "tfms_options['flip'] = get_transforms(do_flip=True, flip_vert=True)\n",
    "tfms_options['flip_no_vert'] = get_transforms(do_flip=True, flip_vert=False)\n",
    "tfms_options['no_flip'] = get_transforms(do_flip=False)\n",
    "tfms_options['zoom_crop'] = zoom_crop(scale=(0.75,2), do_rand=True)\n",
    "tfms_options['rand_resize_crop'] = rand_resize_crop(224)"
   ]
  },
  {
   "cell_type": "markdown",
   "metadata": {},
   "source": [
    "#### Examples of not-very-useful (or even bad) transformations vs. good transformations\n",
    "\n",
    "Again, this will be pretty much dependent on the problem we would like to solve.\n",
    "\n",
    "\n",
    "<img src=\"figs/augmentation_m_w.jpg\" alt=\"m and w\" width=\"200\"/>\n",
    "\n",
    "<center><i>You probablly do not want to vertical-flip letters</i></center>\n"
   ]
  },
  {
   "cell_type": "code",
   "execution_count": 37,
   "metadata": {},
   "outputs": [
    {
     "data": {
      "text/plain": [
       "[WindowsPath('C:/Users/jumin/AppData/Local/Temp/tmp6bxgpv6e/mnist/mnist_tiny/labels.csv'),\n",
       " WindowsPath('C:/Users/jumin/AppData/Local/Temp/tmp6bxgpv6e/mnist/mnist_tiny/models'),\n",
       " WindowsPath('C:/Users/jumin/AppData/Local/Temp/tmp6bxgpv6e/mnist/mnist_tiny/test'),\n",
       " WindowsPath('C:/Users/jumin/AppData/Local/Temp/tmp6bxgpv6e/mnist/mnist_tiny/train'),\n",
       " WindowsPath('C:/Users/jumin/AppData/Local/Temp/tmp6bxgpv6e/mnist/mnist_tiny/valid')]"
      ]
     },
     "execution_count": 37,
     "metadata": {},
     "output_type": "execute_result"
    }
   ],
   "source": [
    "# MNIST TINY\n",
    "mnist_path = untar_data(\n",
    "    URLs.MNIST_TINY,\n",
    "    os.path.join(tmpdir.name, 'mnist.tgz'),\n",
    "    os.path.join(tmpdir.name, \"mnist\")\n",
    ")\n",
    "mnist_path.ls()"
   ]
  },
  {
   "cell_type": "code",
   "execution_count": 38,
   "metadata": {},
   "outputs": [
    {
     "data": {
      "text/plain": [
       "LabelLists;\n",
       "\n",
       "Train: LabelList (709 items)\n",
       "x: ImageList\n",
       "Image (3, 28, 28),Image (3, 28, 28),Image (3, 28, 28),Image (3, 28, 28),Image (3, 28, 28)\n",
       "y: CategoryList\n",
       "3,3,3,3,3\n",
       "Path: C:\\Users\\jumin\\AppData\\Local\\Temp\\tmp6bxgpv6e\\mnist\\mnist_tiny;\n",
       "\n",
       "Valid: LabelList (699 items)\n",
       "x: ImageList\n",
       "Image (3, 28, 28),Image (3, 28, 28),Image (3, 28, 28),Image (3, 28, 28),Image (3, 28, 28)\n",
       "y: CategoryList\n",
       "3,3,3,3,3\n",
       "Path: C:\\Users\\jumin\\AppData\\Local\\Temp\\tmp6bxgpv6e\\mnist\\mnist_tiny;\n",
       "\n",
       "Test: None"
      ]
     },
     "execution_count": 38,
     "metadata": {},
     "output_type": "execute_result"
    }
   ],
   "source": [
    "mnist_data = (ImageList.from_folder(mnist_path)\n",
    "    .split_by_folder()\n",
    "    .label_from_folder())\n",
    "mnist_data"
   ]
  },
  {
   "cell_type": "code",
   "execution_count": 40,
   "metadata": {},
   "outputs": [
    {
     "data": {
      "text/plain": [
       "['3', '7']"
      ]
     },
     "execution_count": 40,
     "metadata": {},
     "output_type": "execute_result"
    }
   ],
   "source": [
    "mnist_data.classes"
   ]
  },
  {
   "cell_type": "code",
   "execution_count": 63,
   "metadata": {},
   "outputs": [
    {
     "data": {
      "image/png": "[encoded data removed]",
      "text/plain": [
       "<Figure size 1440x288 with 5 Axes>"
      ]
     },
     "metadata": {
      "needs_background": "light"
     },
     "output_type": "display_data"
    }
   ],
   "source": [
    "def plot_ex(im, tfms_ops):\n",
    "    _, axes = plt.subplots(1, len(tfms_ops), figsize=(4*len(tfms_ops), 4))\n",
    "    for i, (name, tfms) in enumerate(tfms_ops.items()):\n",
    "        im.apply_tfms(tfms[0]).show(ax=axes[i], title=name)  # tfms[0]: tfms for the training set\n",
    "\n",
    "plot_ex(mnist_data.train.x[0], tfms_options)"
   ]
  },
  {
   "cell_type": "code",
   "execution_count": null,
   "metadata": {},
   "outputs": [],
   "source": []
  },
  {
   "cell_type": "code",
   "execution_count": null,
   "metadata": {},
   "outputs": [],
   "source": []
  },
  {
   "cell_type": "code",
   "execution_count": null,
   "metadata": {},
   "outputs": [],
   "source": []
  },
  {
   "cell_type": "code",
   "execution_count": null,
   "metadata": {},
   "outputs": [],
   "source": [
    "learn = cnn_learner(data, models.resnet18, metrics=[accuracy])\n",
    "learn.fit_one_cycle(1,1e-3)"
   ]
  },
  {
   "cell_type": "code",
   "execution_count": null,
   "metadata": {},
   "outputs": [],
   "source": [
    "_, metric = learn.validate(learn.data.valid_dl, metrics=[accuracy])\n",
    "print(f'Accuracy on validation set: {100*float(metric):3.2f}')"
   ]
  },
  {
   "cell_type": "code",
   "execution_count": null,
   "metadata": {},
   "outputs": [],
   "source": []
  },
  {
   "cell_type": "code",
   "execution_count": null,
   "metadata": {},
   "outputs": [],
   "source": []
  },
  {
   "cell_type": "code",
   "execution_count": null,
   "metadata": {},
   "outputs": [],
   "source": []
  },
  {
   "cell_type": "markdown",
   "metadata": {},
   "source": [
    "In this notebook, we'll use a toy dataset called *Fridge Objects*, which consists of 134 images of can, carton, milk bottle and water bottle photos taken with different backgrounds. With our helper function, the data set will be downloaded and unzip to `image_classification/data`.\n",
    "\n",
    "Let's set that directory to our `path` variable, which we'll use throughout the notebook, and checkout what's inside:"
   ]
  },
  {
   "cell_type": "code",
   "execution_count": null,
   "metadata": {},
   "outputs": [],
   "source": [
    "path = Path(DATA_PATH)\n",
    "path.ls()"
   ]
  },
  {
   "cell_type": "markdown",
   "metadata": {},
   "source": [
    "You'll notice that we have four different folders inside:\n",
    "- `/water_bottle`\n",
    "- `/milk_bottle`\n",
    "- `/carton`\n",
    "- `/can`"
   ]
  },
  {
   "cell_type": "markdown",
   "metadata": {},
   "source": [
    "## 2. Load Images"
   ]
  },
  {
   "cell_type": "markdown",
   "metadata": {},
   "source": [
    "To use fastai, we want to create `ImageDataBunch` so that the library can easily use multiple images (mini-batches) during training time. We create an ImageDataBunch by using fastai's [data_block apis](https://docs.fast.ai/data_block.html).\n",
    "\n",
    "For training and validation, we randomly split the data by 8:2, where 80% of the data is for training and the rest for validation. "
   ]
  },
  {
   "cell_type": "code",
   "execution_count": null,
   "metadata": {},
   "outputs": [],
   "source": [
    "data = (ImageList.from_folder(path) \n",
    "        .split_by_rand_pct(valid_pct=0.2, seed=10) \n",
    "        .label_from_folder() \n",
    "        .transform(size=IMAGE_SIZE) \n",
    "        .databunch(bs=BATCH_SIZE) \n",
    "        .normalize(imagenet_stats))"
   ]
  },
  {
   "cell_type": "markdown",
   "metadata": {},
   "source": [
    "Lets take a look at our data using the databunch we created."
   ]
  },
  {
   "cell_type": "code",
   "execution_count": null,
   "metadata": {},
   "outputs": [],
   "source": [
    "data.show_batch(rows=3, figsize=(15,11))"
   ]
  },
  {
   "cell_type": "markdown",
   "metadata": {},
   "source": [
    "Lets see all available classes:"
   ]
  },
  {
   "cell_type": "code",
   "execution_count": null,
   "metadata": {},
   "outputs": [],
   "source": [
    "print(f'number of classes: {data.c}')\n",
    "print(data.classes)"
   ]
  },
  {
   "cell_type": "markdown",
   "metadata": {},
   "source": [
    "We can also see how many images we have in our training and validation set."
   ]
  },
  {
   "cell_type": "code",
   "execution_count": null,
   "metadata": {},
   "outputs": [],
   "source": [
    "data.batch_stats"
   ]
  },
  {
   "cell_type": "markdown",
   "metadata": {},
   "source": [
    "In this notebook, we don't use test set. You can add it by using [add_test](https://docs.fast.ai/data_block.html#LabelLists.add_test). Please note that in the **fastai** framework, test datasets have no labels - this is the unknown data to be predicted. If you want to validate your model on a test dataset with labels, you probably need to use it as a validation set."
   ]
  },
  {
   "cell_type": "markdown",
   "metadata": {},
   "source": [
    "## 3. Train a Model"
   ]
  },
  {
   "cell_type": "markdown",
   "metadata": {},
   "source": [
    "For the model, we use a convolutional neural network (CNN). Specifically, we'll use **ResNet50** architecture. You can find more details about ResNet from [here](https://arxiv.org/abs/1512.03385).\n",
    "\n",
    "When training a model, there are many hypter parameters to select, such as the learning rate, the model architecture, layers to tune, and many more. With fastai, we can use the `create_cnn` function that allows us to specify the model architecture and performance indicator (metric). At this point, we already benefit from transfer learning since we download the parameters used to train on [ImageNet](http://www.image-net.org/).\n",
    "\n",
    "Note, we use a custom callback `TrainMetricsRecorder` to track the accuracy on the training set during training, since fast.ai's default [recorder class](https://docs.fast.ai/basic_train.html#Recorder) only supports tracking accuracy on the validation set."
   ]
  },
  {
   "cell_type": "code",
   "execution_count": null,
   "metadata": {},
   "outputs": [],
   "source": [
    "learn = cnn_learner(\n",
    "    data,\n",
    "    ARCHITECTURE,\n",
    "    metrics=[accuracy],\n",
    "    callback_fns=[partial(TrainMetricsRecorder, show_graph=True)]\n",
    ")"
   ]
  },
  {
   "cell_type": "markdown",
   "metadata": {},
   "source": [
    "Unfreeze our CNN since we're training all the layers."
   ]
  },
  {
   "cell_type": "code",
   "execution_count": null,
   "metadata": {},
   "outputs": [],
   "source": [
    "learn.unfreeze()"
   ]
  },
  {
   "cell_type": "markdown",
   "metadata": {},
   "source": [
    "We can call the `fit` function to train the dnn."
   ]
  },
  {
   "cell_type": "code",
   "execution_count": null,
   "metadata": {
    "scrolled": false
   },
   "outputs": [],
   "source": [
    "learn.fit(EPOCHS, LEARNING_RATE)"
   ]
  },
  {
   "cell_type": "code",
   "execution_count": null,
   "metadata": {},
   "outputs": [],
   "source": [
    "# You can plot loss by using the default callback Recorder.\n",
    "learn.recorder.plot_losses()"
   ]
  },
  {
   "cell_type": "markdown",
   "metadata": {},
   "source": [
    "## 4. Evaluate the Model"
   ]
  },
  {
   "cell_type": "markdown",
   "metadata": {},
   "source": [
    "To evaluate our model, lets take a look at the accuracy on the validation set."
   ]
  },
  {
   "cell_type": "code",
   "execution_count": null,
   "metadata": {},
   "outputs": [],
   "source": [
    "_, metric = learn.validate(learn.data.valid_dl, metrics=[accuracy])\n",
    "print(f'Accuracy on validation set: {100*float(metric):3.2f}')"
   ]
  },
  {
   "cell_type": "markdown",
   "metadata": {},
   "source": [
    "Now, analyze the classification results by using `ClassificationInterpretation` module."
   ]
  },
  {
   "cell_type": "code",
   "execution_count": null,
   "metadata": {},
   "outputs": [],
   "source": [
    "interp = ClassificationInterpretation.from_learner(learn)\n",
    "# Get prediction scores. We convert tensors to numpy array to plot them later.\n",
    "pred_scores = to_np(interp.probs)"
   ]
  },
  {
   "cell_type": "markdown",
   "metadata": {},
   "source": [
    "We can plot precision-recall and ROC curves for each class as well. Please note that these plots are not too interesting here, since the dataset is easy and thus the accuracy is close to 100%."
   ]
  },
  {
   "cell_type": "code",
   "execution_count": null,
   "metadata": {},
   "outputs": [],
   "source": [
    "# True labels of the validation set. We convert to numpy array for plotting.\n",
    "true_labels = to_np(interp.y_true)\n",
    "plot_pr_roc_curves(true_labels, pred_scores, data.classes)"
   ]
  },
  {
   "cell_type": "markdown",
   "metadata": {},
   "source": [
    "Let's take a close look how our model confused some of the samples (if any). The most common way to do that is to use a confusion matrix."
   ]
  },
  {
   "cell_type": "code",
   "execution_count": null,
   "metadata": {},
   "outputs": [],
   "source": [
    "interp.plot_confusion_matrix()"
   ]
  },
  {
   "cell_type": "markdown",
   "metadata": {},
   "source": [
    "When evaluating our results, we want to see where the model messes up, and whether or not we can do better. So we're interested in seeing images where the model predicted the image incorrectly but with high confidence (images with the highest loss)."
   ]
  },
  {
   "cell_type": "code",
   "execution_count": null,
   "metadata": {},
   "outputs": [],
   "source": [
    "interp.plot_top_losses(9, figsize=(15,11))"
   ]
  },
  {
   "cell_type": "markdown",
   "metadata": {},
   "source": [
    "That's pretty much it! Now you can bring your own dataset and train your model on them easily. "
   ]
  },
  {
   "cell_type": "code",
   "execution_count": 36,
   "metadata": {},
   "outputs": [],
   "source": [
    "# Cleanup\n",
    "\n",
    "tmpdir.cleanup()"
   ]
  },
  {
   "cell_type": "code",
   "execution_count": null,
   "metadata": {},
   "outputs": [],
   "source": []
  }
 ],
 "metadata": {
  "kernelspec": {
   "display_name": "cvbp",
   "language": "python",
   "name": "cvbp"
  },
  "language_info": {
   "codemirror_mode": {
    "name": "ipython",
    "version": 3
   },
   "file_extension": ".py",
   "mimetype": "text/x-python",
   "name": "python",
   "nbconvert_exporter": "python",
   "pygments_lexer": "ipython3",
   "version": "3.6.8"
  }
 },
 "nbformat": 4,
 "nbformat_minor": 2
}
